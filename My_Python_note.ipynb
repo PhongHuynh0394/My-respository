{
  "nbformat": 4,
  "nbformat_minor": 0,
  "metadata": {
    "colab": {
      "provenance": [],
      "collapsed_sections": [
        "JoIoci2TqlG9"
      ],
      "toc_visible": true,
      "authorship_tag": "ABX9TyPOZQDscWqUj7rk9WbFlOKw",
      "include_colab_link": true
    },
    "kernelspec": {
      "name": "python3",
      "display_name": "Python 3"
    },
    "language_info": {
      "name": "python"
    }
  },
  "cells": [
    {
      "cell_type": "markdown",
      "metadata": {
        "id": "view-in-github",
        "colab_type": "text"
      },
      "source": [
        "<a href=\"https://colab.research.google.com/github/meooggi/My-respository/blob/main/My_Python_note.ipynb\" target=\"_parent\"><img src=\"https://colab.research.google.com/assets/colab-badge.svg\" alt=\"Open In Colab\"/></a>"
      ]
    },
    {
      "cell_type": "markdown",
      "source": [
        "***\n",
        "# My Python Notebook\n",
        "Trong cái notebook này nói chung là tui tự note lại kiến thức tự học được từ các khóa python thôi :v chứ cũng chả có gì bodoi. Và có thể sẽ thêm hay chỉnh sửa và sau này. Nội dung nói chung sẽ bao gồm các phần sau:\n",
        "- **Python Basic**\n",
        "- **Numpy Array**\n",
        "- **Matplotlib**\n",
        "- **CSV File**\n",
        "- **Data Cleaning**\n",
        "\n",
        "Nói chung là tàm tạm là vậy, bắt đầu ôn lại thôi!"
      ],
      "metadata": {
        "id": "rxVIEuG4LMMS"
      }
    },
    {
      "cell_type": "markdown",
      "source": [
        "\n",
        "# Python basic \n"
      ],
      "metadata": {
        "id": "tPxnbk2zWxYa"
      }
    },
    {
      "cell_type": "markdown",
      "source": [
        "## Syntax \n",
        "Phần này nói đơn giản vài syntax cơ bản thôi. Xem một *ví dụ* sau:"
      ],
      "metadata": {
        "id": "JoIoci2TqlG9"
      }
    },
    {
      "cell_type": "code",
      "source": [
        "a = 3\n",
        "b = 2\n",
        "print(a+b)"
      ],
      "metadata": {
        "colab": {
          "base_uri": "https://localhost:8080/"
        },
        "id": "n1vBeRSnq3A2",
        "outputId": "e00afc4c-6152-4bda-db81-e4da2dd72efc"
      },
      "execution_count": null,
      "outputs": [
        {
          "output_type": "stream",
          "name": "stdout",
          "text": [
            "5\n"
          ]
        }
      ]
    },
    {
      "cell_type": "markdown",
      "source": [
        "Trên là vài dòng lệnh cơ bản tính tổng của **a+b**. Có thể thấy trong Python, chúng ta không cần nhất thiết phải có `;` ở cuối câu lệnh như ở Python (có hay không cũng không ảnh hưởng trong Python)\n",
        "\n",
        "Xem tiếp *ví dụ* sau:"
      ],
      "metadata": {
        "id": "2qJByBVHq_me"
      }
    },
    {
      "cell_type": "code",
      "source": [
        "if a < 10:\n",
        "  print(\"a là số bé hơn 10\")\n",
        "else:\n",
        "  print(\"Không phải số bé hơn 10\")"
      ],
      "metadata": {
        "colab": {
          "base_uri": "https://localhost:8080/"
        },
        "id": "k-PpVT56tLsL",
        "outputId": "64bd6db9-01f2-473e-a649-e229775e5c88"
      },
      "execution_count": null,
      "outputs": [
        {
          "output_type": "stream",
          "name": "stdout",
          "text": [
            "a là số bé hơn 10\n"
          ]
        }
      ]
    },
    {
      "cell_type": "markdown",
      "source": [
        "Trong Python, để 1 khối lệnh **(block)** thì chỉ cần thục vào 1 tab. Như ví dụ trên thì câu lệnh `if` kết thúc bằng dấu `:` và sau đó thục vào 1 tab đánh dấu khối lệnh sau đó.\n",
        "\n"
      ],
      "metadata": {
        "id": "Q_K-3TP5tdj_"
      }
    },
    {
      "cell_type": "markdown",
      "source": [
        "\n",
        "## Variable and Data Types\n",
        "Nói chung phần này cũng đơn giản, nói sơ qua các loại biến và kiểu dữ liệu nhé:\n",
        "```python\n",
        "int() \n",
        "-> 1 2 -10 243 100000\n",
        "float() \n",
        "-> 2.3 4.1 \n",
        "str() # Chuỗi String ta có thể dùng '' hay \"\" đều được\n",
        "-> '5', 'name', 'True'\n",
        "bool() #boolean\n",
        "-> True False\n",
        "list() #list\n",
        "-> [1,2,3.4,2.3,'Phong','My',True,False]\n",
        "set() #set\n",
        "-> {2,4,1,5}\n",
        "dict() #dictionary\n",
        "-> {'key1':value1, 'key2':value2,...}\n",
        "```\n",
        "Trong đó thì:\n",
        "- `list`: giống mảng thôi chả có gì (bắt đầu từ 0)\n",
        "- `dict`: dictionary là có các phần tử có index là key (thay vì index là 1,2)\n",
        "- `set`: set chứa các giá trị `unodered`(không có trình tự) và duy nhất (không bị trùng lặp)\n",
        "\n",
        "Trong đây sẽ nói nhiều về **String**, **List** và **Dictionary** vì đây là những kiểu nổi bật trong Python (mấy kiểu kia coi thêm nhé :)) \n"
      ],
      "metadata": {
        "id": "08xp5D_DMkFM"
      }
    },
    {
      "cell_type": "markdown",
      "source": [
        "Để kiểm tra 1 biến là kiểu dữ liệu gì thì dùng hàm `type()`:"
      ],
      "metadata": {
        "id": "oeBvgj7Mvfb1"
      }
    },
    {
      "cell_type": "code",
      "source": [
        "a = \"Xin chào mình là Phong Huỳnh\"\n",
        "print(type(a))"
      ],
      "metadata": {
        "colab": {
          "base_uri": "https://localhost:8080/"
        },
        "id": "0LKCJKs4vqSn",
        "outputId": "7c94b8da-394f-4b11-b1d5-1643297f6250"
      },
      "execution_count": 8,
      "outputs": [
        {
          "output_type": "stream",
          "name": "stdout",
          "text": [
            "<class 'str'>\n"
          ]
        }
      ]
    },
    {
      "cell_type": "markdown",
      "source": [
        "### Caculation with variables (Variable operation)\n",
        "Mình sẽ làm vài phép tính cơ bản vui vẻ"
      ],
      "metadata": {
        "id": "8oFar1kDv6Wc"
      }
    },
    {
      "cell_type": "code",
      "source": [
        "a = 12\n",
        "b = 5\n",
        "# Phép cộng trừ nhân chia \n",
        "print(a + b) #17\n",
        "print(a - b) #7\n",
        "print(a * b) #60\n",
        "print(a / b) #2.4 (ra số thực)\n",
        "# Chia lấy dư, chia lấy nguyên\n",
        "print(a % b) #2\n",
        "print(a // b) #2\n",
        "# Mũ (power)\n",
        "print(a**b) # 248832"
      ],
      "metadata": {
        "colab": {
          "base_uri": "https://localhost:8080/"
        },
        "id": "SDXIENP91T-p",
        "outputId": "e890c009-7319-4cf9-f5a9-59812ac220bd"
      },
      "execution_count": 21,
      "outputs": [
        {
          "output_type": "stream",
          "name": "stdout",
          "text": [
            "17\n",
            "7\n",
            "60\n",
            "2.4\n",
            "2\n",
            "2\n",
            "248832\n"
          ]
        }
      ]
    },
    {
      "cell_type": "markdown",
      "source": [
        "### String\n",
        "Này nói sơ vài cái `method` mà Python cấp sẵn để xài thôi.\n",
        "\n",
        "P/S: `method` đại loại như cái phương thức của cái `module` (hay cái `package`) có sẵn trong Python.\n",
        "```python\n",
        "mystring.upper() # Viết hoa\n",
        "mystring.lower() # Viết bé\n",
        "mystring.title() # Viết hoa chữ cái đầu mỗi chữ\n",
        "mystring.replace('best','supperstar') #Thay đổi, này quan trọng trong cleaning data !\n",
        "mystring.count('t') # Đếm chữ thôi chứ chả có gì, cái này dùng trong list dc luôn\n",
        "```"
      ],
      "metadata": {
        "id": "T17vVXugXhyH"
      }
    },
    {
      "cell_type": "markdown",
      "source": [
        "#### String Operation\n",
        "Ngoài sử dụng mấy cái `method` trên thì kiểu **string** là kiểu vô cùng linh hoạt. Ta có thể làm vài trò mèo sau mà trong C++ sẽ phải rất đổ mồ hôi hột:"
      ],
      "metadata": {
        "id": "3HFQJS8d6Dkn"
      }
    },
    {
      "cell_type": "code",
      "source": [
        "print(\"Tôi \" + \"đẹp trai vờ lờ\") # ghép 2 string\n",
        "print(\"Anh biết lỗi rồi \" * 3) # Viết lại cái câu này 3 lần\n",
        "print(\"luv yu \" * 10)\n",
        "print('Anh' in \"Anh yêu em\") # Dùng toán tử in "
      ],
      "metadata": {
        "colab": {
          "base_uri": "https://localhost:8080/"
        },
        "id": "z375f0u-zVnQ",
        "outputId": "44a3e797-8730-421b-e7ba-ae702cd714db"
      },
      "execution_count": 19,
      "outputs": [
        {
          "output_type": "stream",
          "name": "stdout",
          "text": [
            "Tôi đẹp trai vờ lờ\n",
            "Anh biết lỗi rồi Anh biết lỗi rồi Anh biết lỗi rồi \n",
            "luv yu luv yu luv yu luv yu luv yu luv yu luv yu luv yu luv yu luv yu \n",
            "True\n"
          ]
        }
      ]
    },
    {
      "cell_type": "markdown",
      "source": [
        "**Lưu ý:** Tuy nhiên, khi dùng hàm `print()` thì ta không thể in nối 1 string và 1 kiểu dữ liệu khác string. **Nếu bạn ngoan cố, bạn sẽ nhận cái kết giống như này:** "
      ],
      "metadata": {
        "id": "QFuRLsLSz_WN"
      }
    },
    {
      "cell_type": "code",
      "source": [
        "age = 70\n",
        "print(\"Tôi năm nay hơn \"+ age +\" tuổi rồi mà tôi chưa thấy cái trường hợp nào mà nó như thế lày\")"
      ],
      "metadata": {
        "colab": {
          "base_uri": "https://localhost:8080/",
          "height": 183
        },
        "id": "WW5VRyzf0br8",
        "outputId": "28e17058-9f99-40ca-90f0-3b37593b2fa9"
      },
      "execution_count": 15,
      "outputs": [
        {
          "output_type": "error",
          "ename": "TypeError",
          "evalue": "ignored",
          "traceback": [
            "\u001b[0;31m---------------------------------------------------------------------------\u001b[0m",
            "\u001b[0;31mTypeError\u001b[0m                                 Traceback (most recent call last)",
            "\u001b[0;32m<ipython-input-15-4d277cbb24af>\u001b[0m in \u001b[0;36m<module>\u001b[0;34m\u001b[0m\n\u001b[1;32m      1\u001b[0m \u001b[0mage\u001b[0m \u001b[0;34m=\u001b[0m \u001b[0;36m70\u001b[0m\u001b[0;34m\u001b[0m\u001b[0;34m\u001b[0m\u001b[0m\n\u001b[0;32m----> 2\u001b[0;31m \u001b[0mprint\u001b[0m\u001b[0;34m(\u001b[0m\u001b[0;34m\"Tôi năm nay hơn \"\u001b[0m\u001b[0;34m+\u001b[0m \u001b[0mage\u001b[0m \u001b[0;34m+\u001b[0m\u001b[0;34m\" tuổi rồi mà tôi chưa thấy cái trường hợp nào mà nó như thế lày\"\u001b[0m\u001b[0;34m)\u001b[0m\u001b[0;34m\u001b[0m\u001b[0;34m\u001b[0m\u001b[0m\n\u001b[0m",
            "\u001b[0;31mTypeError\u001b[0m: can only concatenate str (not \"int\") to str"
          ]
        }
      ]
    },
    {
      "cell_type": "markdown",
      "source": [
        "Phải bạn không ? Cùng sửa nhé ! Chuyển thành `str()` thôi"
      ],
      "metadata": {
        "id": "IB3TWPzv094r"
      }
    },
    {
      "cell_type": "code",
      "source": [
        "age = 70\n",
        "print(\"Tôi năm nay hơn \"+ str(age) +\" tuổi rồi mà tôi chưa thấy cái trường hợp nào mà nó như thế lày\")"
      ],
      "metadata": {
        "colab": {
          "base_uri": "https://localhost:8080/"
        },
        "id": "nVsvSz7F1Iqq",
        "outputId": "9a197cfc-9129-4061-9eed-aaa5f533f9e6"
      },
      "execution_count": 22,
      "outputs": [
        {
          "output_type": "stream",
          "name": "stdout",
          "text": [
            "Tôi năm nay hơn 70 tuổi rồi mà tôi chưa thấy cái trường hợp nào mà nó như thế lày\n"
          ]
        }
      ]
    },
    {
      "cell_type": "markdown",
      "source": [
        "Ngoài ra Python còn hỗ trợ `\\n` **(xuống dòng)** hay `\\t` "
      ],
      "metadata": {
        "id": "U0xcg5hr4nut"
      }
    },
    {
      "cell_type": "markdown",
      "source": [
        "#### String Indexing\n",
        "Thôi coi ví dụ cho đơn giản dễ hiểu:"
      ],
      "metadata": {
        "id": "QG3im89G6UQe"
      }
    },
    {
      "cell_type": "code",
      "source": [
        "mystring = \"Hôm nay tôi buồn một mình trên phố đông...\"\n",
        "print(mystring[:]) # lấy hết cả chuỗi\n",
        "print(mystring[4:10]) # lấy từ kí tự có index 4 đến index 9\n",
        "print(mystring[10:]) # Lấy từ index 10 đến hết"
      ],
      "metadata": {
        "colab": {
          "base_uri": "https://localhost:8080/"
        },
        "id": "0Gfv6dYV6gYl",
        "outputId": "53622b6c-8a2d-48c1-9979-fa786a6ee902"
      },
      "execution_count": 23,
      "outputs": [
        {
          "output_type": "stream",
          "name": "stdout",
          "text": [
            "Hôm nay tôi buồn một mình trên phố đông...\n",
            "nay tô\n",
            "i buồn một mình trên phố đông...\n"
          ]
        }
      ]
    },
    {
      "cell_type": "markdown",
      "source": [
        "### List\n",
        "Đây là kiểu dữ liệu hữu ích nhất trong Python. Kiểu dữ liệu này giống như mảng, mọi phần tử được đặt trong dấu `[]` và có thể chứa nhiều kiểu dữ liệu khác nhau, thậm chí list khác (để tạo Matrix) \n",
        "\n",
        "Để khởi tạo list thì ta có thể dùng hàm `list()` hoặc dùng `[]`(thường thì mình dùng cách 2 tại mình thích :v)\n",
        "```python\n",
        "mylist = []\n",
        "```\n",
        "Để cho lẹ thì nêu `method` thôi rảnh thì xài nhé: \n",
        "```python\n",
        "mylist.sort() # Sắp xếp từ bé đến lớn\n",
        "mylist.reverse() # Đảo ngược list :)) \n",
        "mylist.count(a) # Đếm số lượng phần tử a\n",
        "mylist.append() # Thêm phần tử dô cuối (này ngon hơn C++)\n",
        "mylist.isert(1,'haha') # Thêm phần tử vào vị trí 1\n",
        "mylist.index(a) # trả về giá trị index của a  \n",
        "```\n"
      ],
      "metadata": {
        "id": "sdrogzBEVHzW"
      }
    },
    {
      "cell_type": "markdown",
      "source": [
        "Cung cấp thêm 2 hàm quan trọng dùng cho list:\n",
        "- `len()`: trả về độ dài của list\n",
        "- `del()`: Xóa phần tử khỏi list, vd: `del(mylist[2])` hay `del(mylist[2:5])`"
      ],
      "metadata": {
        "id": "EZgz7U_KbIiU"
      }
    },
    {
      "cell_type": "markdown",
      "source": [
        "#### List Operation\n",
        "Ta sẽ cũng có nhiều cách để xử lý với list cũng giống như **string** .Thí dụ cho cái **list** như này:"
      ],
      "metadata": {
        "id": "ZnsJWQXEb1Ei"
      }
    },
    {
      "cell_type": "code",
      "source": [
        "a = [1,3,4.5,3,'Phong',True]"
      ],
      "metadata": {
        "id": "Fn5hS1wvcPrq"
      },
      "execution_count": 25,
      "outputs": []
    },
    {
      "cell_type": "code",
      "source": [
        "a * 2 # gấp đôi cái list"
      ],
      "metadata": {
        "colab": {
          "base_uri": "https://localhost:8080/"
        },
        "id": "uNpsUE8QciIb",
        "outputId": "46fcdd45-4d83-4fbc-a1d3-9467869eff7f"
      },
      "execution_count": 27,
      "outputs": [
        {
          "output_type": "execute_result",
          "data": {
            "text/plain": [
              "[1, 3, 4.5, 3, 'Phong', True, 1, 3, 4.5, 3, 'Phong', True]"
            ]
          },
          "metadata": {},
          "execution_count": 27
        }
      ]
    },
    {
      "cell_type": "code",
      "source": [
        "a + [\"day la list moi\"] # Thêm cái đuôi vào list"
      ],
      "metadata": {
        "colab": {
          "base_uri": "https://localhost:8080/"
        },
        "id": "Gc68U_9Hcp4F",
        "outputId": "02fcb0cd-cdf0-4ede-de68-398f7fe732c6"
      },
      "execution_count": 28,
      "outputs": [
        {
          "output_type": "execute_result",
          "data": {
            "text/plain": [
              "[1, 3, 4.5, 3, 'Phong', True, 'day la list moi']"
            ]
          },
          "metadata": {},
          "execution_count": 28
        }
      ]
    },
    {
      "cell_type": "code",
      "source": [
        "'Phong' in a"
      ],
      "metadata": {
        "id": "pLnFk92Vc1-t",
        "colab": {
          "base_uri": "https://localhost:8080/"
        },
        "outputId": "9322a7b6-22c6-453e-fe19-ff424cfc485e"
      },
      "execution_count": 29,
      "outputs": [
        {
          "output_type": "execute_result",
          "data": {
            "text/plain": [
              "True"
            ]
          },
          "metadata": {},
          "execution_count": 29
        }
      ]
    },
    {
      "cell_type": "markdown",
      "source": [
        "#### List Indexing\n",
        "Cách truy xuất phần tử trong list cũng như **String** thôi. Ta sẽ có vài trò vui giồng vầy:"
      ],
      "metadata": {
        "id": "Echz2nAh8FaF"
      }
    },
    {
      "cell_type": "code",
      "source": [
        "my_list = ['tôi', 'đẹp', 'trai', 'vờ', 'lờ']"
      ],
      "metadata": {
        "id": "A0gtGCwN8r04"
      },
      "execution_count": 30,
      "outputs": []
    },
    {
      "cell_type": "code",
      "source": [
        "my_list[2:] #split (split) như phía trên string thôi"
      ],
      "metadata": {
        "colab": {
          "base_uri": "https://localhost:8080/"
        },
        "id": "t_pa-K6K9HwY",
        "outputId": "1599eabe-7f0c-4e71-f8ae-dc0298dd9d99"
      },
      "execution_count": 31,
      "outputs": [
        {
          "output_type": "execute_result",
          "data": {
            "text/plain": [
              "['trai', 'vờ', 'lờ']"
            ]
          },
          "metadata": {},
          "execution_count": 31
        }
      ]
    },
    {
      "cell_type": "code",
      "source": [
        "my_list[2]  "
      ],
      "metadata": {
        "colab": {
          "base_uri": "https://localhost:8080/",
          "height": 35
        },
        "id": "8pshGYvN9REA",
        "outputId": "05fe3e7b-da31-4af7-90ba-4a8c610ebdfb"
      },
      "execution_count": 32,
      "outputs": [
        {
          "output_type": "execute_result",
          "data": {
            "text/plain": [
              "'trai'"
            ],
            "application/vnd.google.colaboratory.intrinsic+json": {
              "type": "string"
            }
          },
          "metadata": {},
          "execution_count": 32
        }
      ]
    },
    {
      "cell_type": "markdown",
      "source": [
        "Trong việc xử lý dữ liệu, 1 cái list sẽ có rất nhiều phần tử và để linh hoạt thì **List** cũng có thể truy xuất ngược như này:"
      ],
      "metadata": {
        "id": "9Uh2-Uqu9ZQS"
      }
    },
    {
      "cell_type": "code",
      "source": [
        "my_list[-1]"
      ],
      "metadata": {
        "colab": {
          "base_uri": "https://localhost:8080/",
          "height": 35
        },
        "id": "eMfydLiA9zU3",
        "outputId": "0dbfdbae-70da-48b8-a701-481a668fd241"
      },
      "execution_count": 33,
      "outputs": [
        {
          "output_type": "execute_result",
          "data": {
            "text/plain": [
              "'lờ'"
            ],
            "application/vnd.google.colaboratory.intrinsic+json": {
              "type": "string"
            }
          },
          "metadata": {},
          "execution_count": 33
        }
      ]
    },
    {
      "cell_type": "code",
      "source": [
        "my_list[-3]"
      ],
      "metadata": {
        "colab": {
          "base_uri": "https://localhost:8080/",
          "height": 35
        },
        "id": "D55AhKSB9223",
        "outputId": "db81ac68-8107-4d5e-e278-170ea5711bb2"
      },
      "execution_count": 34,
      "outputs": [
        {
          "output_type": "execute_result",
          "data": {
            "text/plain": [
              "'trai'"
            ],
            "application/vnd.google.colaboratory.intrinsic+json": {
              "type": "string"
            }
          },
          "metadata": {},
          "execution_count": 34
        }
      ]
    },
    {
      "cell_type": "code",
      "source": [
        "my_list[1:-2]"
      ],
      "metadata": {
        "colab": {
          "base_uri": "https://localhost:8080/"
        },
        "id": "5hTUckij97Jg",
        "outputId": "7653ccb6-7bb4-48a6-eda4-eab80ed72b6c"
      },
      "execution_count": 37,
      "outputs": [
        {
          "output_type": "execute_result",
          "data": {
            "text/plain": [
              "['đẹp', 'trai']"
            ]
          },
          "metadata": {},
          "execution_count": 37
        }
      ]
    },
    {
      "cell_type": "markdown",
      "source": [
        "### Dictionary\n",
        "Có thể nói đay là kiểu dữ liệu mới mẽ và hơi lạ lạ :v \n",
        "\n",
        "Cơ bản thì `dictionary` cũng chỉ là 1 tập hợp những phần tử mà mỗi phần tử sẽ có 2 thành phần như này\n",
        "```python\n",
        "dictionary = {'key_1':value_1, 'key_2':value_2,...}\n",
        "```\n",
        "Trong đó:\n",
        "- Key: Có thể xem là *index*, là hầu hết kiểu dữ liệu trừ **list** và **dictionary**\n",
        "- Value: có thể là tất cả kiểu dữ liệu như: integer, float, boolean, list, string hay thậm chí là một dictionary khác.\n"
      ],
      "metadata": {
        "id": "zoXqaEtKBYHi"
      }
    },
    {
      "cell_type": "markdown",
      "source": [
        "Khai báo ví dụ như nài:"
      ],
      "metadata": {
        "id": "xf2wlUNzC_Zh"
      }
    },
    {
      "cell_type": "code",
      "source": [
        "# Cách 1\n",
        "week = {2:'Monday', 3:'Tuesday', 4:'Wednesday', 'five':'Thursday', 6:'Friday', 7:'Saturday', 'weekend':\"Sunday\"}\n",
        "# Cách 2\n",
        "week_1 = {} # Tạo rỗng\n",
        "week_1['key_1'] = 1\n",
        "week_1['key_2'] = [1,2,3,4,5,6,7,8,9]\n"
      ],
      "metadata": {
        "id": "FCSchjD2DK60"
      },
      "execution_count": 38,
      "outputs": []
    },
    {
      "cell_type": "markdown",
      "source": [
        "Cách để truy xuất phần tử trong `dictionary` giống với **list**, chỉ khác là phần index trong dấu `[]` thay bằng key. Ví dụ:"
      ],
      "metadata": {
        "id": "NtB4TUJqE3xW"
      }
    },
    {
      "cell_type": "code",
      "source": [
        "print(week['five'])\n",
        "print(week_1['key_2'])\n",
        "print(week_1['key_2'][3])"
      ],
      "metadata": {
        "colab": {
          "base_uri": "https://localhost:8080/"
        },
        "id": "K_5oTe3cFXr2",
        "outputId": "7c5ed850-25bb-4bac-a92e-c7602696da31"
      },
      "execution_count": 40,
      "outputs": [
        {
          "output_type": "stream",
          "name": "stdout",
          "text": [
            "Thursday\n",
            "[1, 2, 3, 4, 5, 6, 7, 8, 9]\n",
            "4\n"
          ]
        }
      ]
    },
    {
      "cell_type": "markdown",
      "source": [
        "Ngoài ra cũng có thể dùng toán tử `in` để kiểm tra phần tử có trong `dic` giống với **list** hay **string**. Ta kiểm tra *Key* nhé, nếu kiểm tra *Value* thì sẽ luôn trả về **False** đấy"
      ],
      "metadata": {
        "id": "B-b_UvLyFtO_"
      }
    },
    {
      "cell_type": "code",
      "source": [
        "'Sunday' in week"
      ],
      "metadata": {
        "colab": {
          "base_uri": "https://localhost:8080/"
        },
        "id": "QwHP5kBZGVUE",
        "outputId": "8a8b0e2d-a9a2-46bc-880b-74aeb75755cb"
      },
      "execution_count": 45,
      "outputs": [
        {
          "output_type": "execute_result",
          "data": {
            "text/plain": [
              "False"
            ]
          },
          "metadata": {},
          "execution_count": 45
        }
      ]
    },
    {
      "cell_type": "code",
      "source": [
        "4 in week"
      ],
      "metadata": {
        "colab": {
          "base_uri": "https://localhost:8080/"
        },
        "id": "8v01XMKeGbf-",
        "outputId": "dda059b6-e415-481d-84c1-03f62b59e604"
      },
      "execution_count": 47,
      "outputs": [
        {
          "output_type": "execute_result",
          "data": {
            "text/plain": [
              "True"
            ]
          },
          "metadata": {},
          "execution_count": 47
        }
      ]
    },
    {
      "cell_type": "markdown",
      "source": [
        "## Function\n",
        "Trong Python (cũng như trong nhiều ngôn ngữ khác) đều có 2 loại hàm:\n",
        "1.   Hàm dựng sẵn **(build-in-function)** vd: `print()`\n",
        "2.   Hàm tùy chỉnh **(Custom)**\n",
        "\n",
        "Nói chung cũng không có gì khó hiểu, hàm dựng sẵn thì nhiều vô số kể mình lười vl nên bạn xem trong này nhé: [Bấm dô đây nè](https://www.w3schools.com/python/python_ref_functions.asp)\n",
        "\n"
      ],
      "metadata": {
        "id": "8M0uHAJj-AF4"
      }
    },
    {
      "cell_type": "markdown",
      "source": [
        "Rồi đến cái mà bạn mong chờ nè, tạo một cái hàm. Coi ví dụ"
      ],
      "metadata": {
        "id": "fLrsehWzH2oZ"
      }
    },
    {
      "cell_type": "code",
      "source": [
        "def Sorry():\n",
        "  print(\"Anh xin lỗi mà \" * 3)\n",
        "\n",
        "Sorry()"
      ],
      "metadata": {
        "colab": {
          "base_uri": "https://localhost:8080/"
        },
        "id": "-sM9KpwPJtNN",
        "outputId": "e05ed416-7571-4e1f-ab81-e0bbfde7015f"
      },
      "execution_count": 50,
      "outputs": [
        {
          "output_type": "stream",
          "name": "stdout",
          "text": [
            "Anh xin lỗi mà Anh xin lỗi mà Anh xin lỗi mà \n"
          ]
        }
      ]
    },
    {
      "cell_type": "markdown",
      "source": [
        "▶ Có thể thấy cơ bản là phải có \n",
        "- **`def` + `name` + `:`**\n",
        "rồi sau đó thụt vào để ghi khối lệnh\n"
      ],
      "metadata": {
        "id": "VZYKw7FrKNxZ"
      }
    },
    {
      "cell_type": "markdown",
      "source": [
        "#### Docstring\n",
        "Đây là dòng mô tả cho cái hàm mình đang làm. Vì nó vô cùng cần thiết khi xây dựng hàm, nên đừng bỏ qua nó nhé, cũng đừng ghi câu giải thích ngu như ví dụ nhé. Ví dụ:"
      ],
      "metadata": {
        "id": "3H3addR0QXHq"
      }
    },
    {
      "cell_type": "code",
      "source": [
        "def my_function():\n",
        "  '''Đây là cái hàm mà tôi cũng không biết nó dùng làm gì, tôi ví dụ thôi'''\n",
        "  print(\"Hàm này vô dụng vờ lờ\")\n",
        "\n",
        "print(my_function.__doc__) # Lệnh này cho xem cái phần giải thích hàm\n",
        "my_function()"
      ],
      "metadata": {
        "colab": {
          "base_uri": "https://localhost:8080/"
        },
        "id": "bdbo-U_HQg3K",
        "outputId": "c63ab444-e564-457e-ec28-8e1e3303832f"
      },
      "execution_count": 64,
      "outputs": [
        {
          "output_type": "stream",
          "name": "stdout",
          "text": [
            "Đây là cái hàm mà tôi cũng không biết nó dùng làm gì, tôi ví dụ thôi\n",
            "Hàm này vô dụng vờ lờ\n"
          ]
        }
      ]
    },
    {
      "cell_type": "markdown",
      "source": [
        "### Arguments\n",
        "Tất nhiên khi viết hàm thì thường sẽ có đối số đầu vào ☹"
      ],
      "metadata": {
        "id": "jlstOLF0LSzH"
      }
    },
    {
      "cell_type": "code",
      "source": [
        "def Sorry(name):\n",
        "  print(name + \" \" + \"xin lỗi được chưa!\")\n",
        "\n",
        "Sorry(\"em\")"
      ],
      "metadata": {
        "colab": {
          "base_uri": "https://localhost:8080/"
        },
        "id": "8R5AYZsbL72j",
        "outputId": "fd3cf8ba-52e8-40ec-dc00-a26238ddd112"
      },
      "execution_count": 54,
      "outputs": [
        {
          "output_type": "stream",
          "name": "stdout",
          "text": [
            "em xin lỗi được chưa!\n"
          ]
        }
      ]
    },
    {
      "cell_type": "markdown",
      "source": [
        "Có thể thêm nhiều đối số (arguments) bằng cách thêm dấu `,`. "
      ],
      "metadata": {
        "id": "TgtR283jMQjB"
      }
    },
    {
      "cell_type": "markdown",
      "source": [
        "#### Default Argument\n",
        "Đơn giản là đối số mà nếu mình không điền dô thì nó sẽ hiểu là cái mình đã thiết lập sẵn, coi ví dụ:"
      ],
      "metadata": {
        "id": "bUmXzIPjNThF"
      }
    },
    {
      "cell_type": "code",
      "source": [
        "def Thank(name=\"tui\"):\n",
        "  print(name + \" \"+ \"cảm ơn nhó :))\" )\n",
        "\n",
        "Thank(\"Phong\")\n",
        "Thank()"
      ],
      "metadata": {
        "colab": {
          "base_uri": "https://localhost:8080/"
        },
        "id": "p1cRJbrTOQH1",
        "outputId": "1547f0bc-4a48-43af-9402-21b0748b9f44"
      },
      "execution_count": 59,
      "outputs": [
        {
          "output_type": "stream",
          "name": "stdout",
          "text": [
            "Phong cảm ơn nhó :))\n",
            "tui cảm ơn nhó :))\n"
          ]
        }
      ]
    },
    {
      "cell_type": "markdown",
      "source": [
        "### Return value\n"
      ],
      "metadata": {
        "id": "aV5OOLAdPMAD"
      }
    },
    {
      "cell_type": "code",
      "source": [
        "def adding(a,b):\n",
        "  return a+b"
      ],
      "metadata": {
        "id": "SBwn4hElPQOC"
      },
      "execution_count": 65,
      "outputs": []
    },
    {
      "cell_type": "code",
      "source": [
        "#Hoặc cũng có thể return nhiều đối tượng\n",
        "def Vidu(a,b):\n",
        "  substract = a - b\n",
        "  return a+b,substract\n",
        "\n",
        "sum_ab, sub_ab = Vidu(2,3)\n",
        "print(sum_ab)\n",
        "print(sub_ab)"
      ],
      "metadata": {
        "colab": {
          "base_uri": "https://localhost:8080/"
        },
        "id": "elSK_fHUSRHq",
        "outputId": "53fae069-9645-404a-f7a9-f087fbba6dc8"
      },
      "execution_count": 67,
      "outputs": [
        {
          "output_type": "stream",
          "name": "stdout",
          "text": [
            "5\n",
            "-1\n"
          ]
        }
      ]
    },
    {
      "cell_type": "markdown",
      "source": [
        "### Pass Statement\n",
        "Nói chung thì khi mà viết một chương trình, mà mình ghi cái hàm tới lúc bí ý không biết ghi thêm gì :v thì ta có thể dùng lệnh `pass` để Python bỏ qua mà không gây lỗi, mốt quay lại chỉnh"
      ],
      "metadata": {
        "id": "oJqOkGRQPjVK"
      }
    },
    {
      "cell_type": "code",
      "source": [
        "def Cha_biet_ghi_gi(a,b,c):\n",
        "  pass"
      ],
      "metadata": {
        "id": "eqt1Lg-GP_-A"
      },
      "execution_count": 62,
      "outputs": []
    },
    {
      "cell_type": "markdown",
      "source": [
        "## Conditon Statement"
      ],
      "metadata": {
        "id": "bzwTWtqmAKX-"
      }
    },
    {
      "cell_type": "markdown",
      "source": [
        "Rồi đến đây thì tất nhiền không thể không nói đến mấy cái biểu thức so sánh được rồi: `> < = >= <= == !=`\n",
        "\n",
        "Thôi coi ví dụ lun nhé: "
      ],
      "metadata": {
        "id": "0ucoHEJXBLGH"
      }
    },
    {
      "cell_type": "code",
      "source": [
        "a = 20\n",
        "b = 10\n",
        "if a > b:\n",
        "  print(\"a bự hơn b\")\n",
        "elif a == b:\n",
        "  print(\"a bằng b\")\n",
        "else:\n",
        "  print(\"a nhỏ hơn b\")"
      ],
      "metadata": {
        "colab": {
          "base_uri": "https://localhost:8080/"
        },
        "id": "yWlK_eeuTrgw",
        "outputId": "c4de9d40-7529-4327-fa9d-e4cdc864dbac"
      },
      "execution_count": 68,
      "outputs": [
        {
          "output_type": "stream",
          "name": "stdout",
          "text": [
            "a bự hơn b\n"
          ]
        }
      ]
    },
    {
      "cell_type": "markdown",
      "source": [
        "Trong ví dụ trên có thể thấy sau `if` là điều kiện rồi đến `:`. Ngoài ra cũng có `elif` và `else`, mấy cái này dễ hiểu thôi khỏi giải thích nhé :)) \n",
        "\n",
        "Đùa thôi chứ `elif` **(else if)** chỉ là nếu không đúng điều kiện `if` thì dến điều kiên của nó thôi. Còn `else` thì khồng có điều kiện gì cả, là trường hợp cuối cùng."
      ],
      "metadata": {
        "id": "F3aTTHnhT-_o"
      }
    },
    {
      "cell_type": "markdown",
      "source": [
        "**Nói thêm:** Chúng ta cũng có thể dùng các toán tử quan hệ như:\n",
        "- `a in b`: trả về True nếu a trong b\n",
        "- `not`: phủ định ngược lại \n",
        "- `and`: cả 2 mệnh đề đều thỏa\n",
        "- `or`: 1 trong 2 mệnh đề thỏa "
      ],
      "metadata": {
        "id": "C08_3c_DWHLK"
      }
    },
    {
      "cell_type": "markdown",
      "source": [
        "### Pass if\n",
        "Cũng giống hàm, nếu bạn ghi if rồi nhưng không có ý tưởng gì -> `pass`"
      ],
      "metadata": {
        "id": "qU5QkZgiU5rc"
      }
    },
    {
      "cell_type": "code",
      "source": [
        "a = 1\n",
        "b = 2\n",
        "if a > b:\n",
        "  pass "
      ],
      "metadata": {
        "id": "v7CS4rQHV4RK"
      },
      "execution_count": 70,
      "outputs": []
    },
    {
      "cell_type": "markdown",
      "source": [
        "# Conclusion\n",
        "Đây là note lại để tổng hợp kiến thức cho vui thôi, còn nhiều phần cần thêm vào và hoàn thiện. Đây là tạm kết của **Python Bacis**"
      ],
      "metadata": {
        "id": "htOvj_F0W7Y5"
      }
    }
  ]
}