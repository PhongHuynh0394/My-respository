{
 "cells": [
  {
   "cell_type": "markdown",
   "metadata": {},
   "source": [
    "# Profitable App Profiles for the App Store and Google Play Markets (just 4f)\n",
    "\n",
    " Our aim in this project is to find mobile app profiles that are profitable for the App Store and Google Play markets. Don't be so serious, chill! We will do it step by step."
   ]
  },
  {
   "cell_type": "markdown",
   "metadata": {},
   "source": [
    "---\n",
    "# Explore the Data\n",
    "As of September 2018, there were approximately 2 million iOS apps available on the App Store, and 2.1 million Android apps on Google Play.\n",
    "\n",
    "There are 2 dataset we're going to work with:\n",
    "- Appstore dataset containing data about approximately seven thousand iOS apps from the App Store.\n",
    "- CH play dataset containing data about approximately ten thousand Android apps from Google Play.\n",
    "\n",
    "Let's start by opening the two data sets and then continue with exploring the data."
   ]
  },
  {
   "cell_type": "code",
   "execution_count": 34,
   "metadata": {},
   "outputs": [],
   "source": [
    "from csv import reader\n",
    "# AppStore DataSet\n",
    "ios_op = open('AppleStore.csv', encoding = 'utf8') #Unicode\n",
    "ios_read = reader(ios_op)\n",
    "ios = list(ios_read)\n",
    "\n",
    "#GooglePlay Store DataSet\n",
    "android_op = open('googleplaystore.csv', encoding = 'utf8')\n",
    "android_read = reader(android_op)\n",
    "android = list(android_read)"
   ]
  },
  {
   "cell_type": "markdown",
   "metadata": {},
   "source": [
    "To explore the data, we need to build the function named `explore_data()` to see what things we will work with:"
   ]
  },
  {
   "cell_type": "code",
   "execution_count": 35,
   "metadata": {},
   "outputs": [],
   "source": [
    "def explore_data(dataset, start, end, row_col = False):\n",
    "    for i in dataset[start:end]:\n",
    "        print(i) #i is a row in dataset which was converted to list of list\n",
    "        print(\"\\n\") # to separete each line\n",
    "    if (row_col == True):\n",
    "        print(\"Number of rows: \",len(dataset))\n",
    "        print(\"Number of columns: \",len(dataset[0]))"
   ]
  },
  {
   "cell_type": "code",
   "execution_count": 36,
   "metadata": {
    "scrolled": true
   },
   "outputs": [
    {
     "name": "stdout",
     "output_type": "stream",
     "text": [
      "['App', 'Category', 'Rating', 'Reviews', 'Size', 'Installs', 'Type', 'Price', 'Content Rating', 'Genres', 'Last Updated', 'Current Ver', 'Android Ver']\n",
      "\n",
      "\n",
      "['Photo Editor & Candy Camera & Grid & ScrapBook', 'ART_AND_DESIGN', '4.1', '159', '19M', '10,000+', 'Free', '0', 'Everyone', 'Art & Design', 'January 7, 2018', '1.0.0', '4.0.3 and up']\n",
      "\n",
      "\n",
      "['Coloring book moana', 'ART_AND_DESIGN', '3.9', '967', '14M', '500,000+', 'Free', '0', 'Everyone', 'Art & Design;Pretend Play', 'January 15, 2018', '2.0.0', '4.0.3 and up']\n",
      "\n",
      "\n",
      "Number of rows:  10842\n",
      "Number of columns:  13\n",
      "None\n"
     ]
    }
   ],
   "source": [
    "print(android[0]) #print out header :)) \n",
    "print(\"\\n\")\n",
    "print(explore_data(android,1,3,True))"
   ]
  },
  {
   "cell_type": "code",
   "execution_count": 37,
   "metadata": {
    "scrolled": true
   },
   "outputs": [
    {
     "name": "stdout",
     "output_type": "stream",
     "text": [
      "['id', 'track_name', 'size_bytes', 'currency', 'price', 'rating_count_tot', 'rating_count_ver', 'user_rating', 'user_rating_ver', 'ver', 'cont_rating', 'prime_genre', 'sup_devices.num', 'ipadSc_urls.num', 'lang.num', 'vpp_lic']\n",
      "\n",
      "\n",
      "['284882215', 'Facebook', '389879808', 'USD', '0.0', '2974676', '212', '3.5', '3.5', '95.0', '4+', 'Social Networking', '37', '1', '29', '1']\n",
      "\n",
      "\n",
      "['389801252', 'Instagram', '113954816', 'USD', '0.0', '2161558', '1289', '4.5', '4.0', '10.23', '12+', 'Photo & Video', '37', '0', '29', '1']\n",
      "\n",
      "\n"
     ]
    }
   ],
   "source": [
    "explore_data(ios,0,3)"
   ]
  },
  {
   "cell_type": "markdown",
   "metadata": {},
   "source": [
    "It's great, right ? Now we can observe how our data look like. Then, let's move to the next step to clear our data! "
   ]
  },
  {
   "cell_type": "markdown",
   "metadata": {},
   "source": [
    "---\n",
    "# Deleting wrong data\n",
    "\n",
    "Everything is not perfect, and Data either. There are many inaccurate data in our dataset. "
   ]
  },
  {
   "cell_type": "markdown",
   "metadata": {},
   "source": [
    "But there are some trouble, `the wrong data`. Like row 10473 in CHplay dataset:"
   ]
  },
  {
   "cell_type": "code",
   "execution_count": 38,
   "metadata": {},
   "outputs": [
    {
     "name": "stdout",
     "output_type": "stream",
     "text": [
      "['Life Made WI-Fi Touchscreen Photo Frame', '1.9', '19', '3.0M', '1,000+', 'Free', '0', 'Everyone', '', 'February 11, 2018', '1.0.19', '4.0 and up']\n"
     ]
    }
   ],
   "source": [
    "print(android[10473])"
   ]
  },
  {
   "cell_type": "markdown",
   "metadata": {},
   "source": [
    "It's having wrong rating for entry. Therefore, all we need to do is delete this row by using `del` statement. But not to abuse it much!"
   ]
  },
  {
   "cell_type": "code",
   "execution_count": 39,
   "metadata": {},
   "outputs": [],
   "source": [
    "del(android[10473]) #just run one time!"
   ]
  },
  {
   "cell_type": "code",
   "execution_count": 40,
   "metadata": {},
   "outputs": [
    {
     "name": "stdout",
     "output_type": "stream",
     "text": [
      "10841\n"
     ]
    }
   ],
   "source": [
    "print(len(android)) #correct row"
   ]
  },
  {
   "cell_type": "markdown",
   "metadata": {},
   "source": [
    "---\n",
    "# Remove Duplicate Entries\n",
    "## Part 1\n",
    "Still not the end of cleaning data. We will see that \"Instagram\" has 4 entries like this"
   ]
  },
  {
   "cell_type": "code",
   "execution_count": 41,
   "metadata": {},
   "outputs": [
    {
     "name": "stdout",
     "output_type": "stream",
     "text": [
      "['Instagram', 'SOCIAL', '4.5', '66577313', 'Varies with device', '1,000,000,000+', 'Free', '0', 'Teen', 'Social', 'July 31, 2018', 'Varies with device', 'Varies with device']\n",
      "['Instagram', 'SOCIAL', '4.5', '66577446', 'Varies with device', '1,000,000,000+', 'Free', '0', 'Teen', 'Social', 'July 31, 2018', 'Varies with device', 'Varies with device']\n",
      "['Instagram', 'SOCIAL', '4.5', '66577313', 'Varies with device', '1,000,000,000+', 'Free', '0', 'Teen', 'Social', 'July 31, 2018', 'Varies with device', 'Varies with device']\n",
      "['Instagram', 'SOCIAL', '4.5', '66509917', 'Varies with device', '1,000,000,000+', 'Free', '0', 'Teen', 'Social', 'July 31, 2018', 'Varies with device', 'Varies with device']\n"
     ]
    }
   ],
   "source": [
    "for app in android:\n",
    "    if app[0] == \"Instagram\": #app[0] is the name of app\n",
    "        print(app)"
   ]
  },
  {
   "cell_type": "markdown",
   "metadata": {},
   "source": [
    "We will find out all of duplicate app and how many is it like this:"
   ]
  },
  {
   "cell_type": "code",
   "execution_count": 42,
   "metadata": {},
   "outputs": [
    {
     "name": "stdout",
     "output_type": "stream",
     "text": [
      "Number of duplicated app:  1181\n",
      "\n",
      "\n",
      "Some name of duplicated app:  ['Quick PDF Scanner + OCR FREE', 'Box', 'Google My Business', 'ZOOM Cloud Meetings', 'join.me - Simple Meetings', 'Box', 'Zenefits', 'Google Ads', 'Google My Business', 'Slack', 'FreshBooks Classic', 'Insightly CRM', 'QuickBooks Accounting: Invoicing & Expenses', 'HipChat - Chat Built for Teams', 'Xero Accounting Software', 'MailChimp - Email, Marketing Automation', 'Crew - Free Messaging and Scheduling', 'Asana: organize team projects', 'Google Analytics', 'AdWords Express']\n"
     ]
    }
   ],
   "source": [
    "duplicate = []\n",
    "unique_app = []\n",
    "for app in android:\n",
    "    if app[0] in unique_app:\n",
    "        duplicate.append(app[0])\n",
    "    else:\n",
    "        unique_app.append(app[0])\n",
    "print(\"Number of duplicated app: \",len(duplicate))\n",
    "print(\"\\n\")\n",
    "print(\"Some name of duplicated app: \",duplicate[:20])"
   ]
  },
  {
   "cell_type": "markdown",
   "metadata": {},
   "source": [
    "As we see, there are many duplicated apps we need to remove. But we are not supposed to delete them randomly. `Name` of each app is unique and we can follow that criterion to clean our dataset."
   ]
  },
  {
   "cell_type": "markdown",
   "metadata": {},
   "source": [
    "## Part 2"
   ]
  },
  {
   "cell_type": "markdown",
   "metadata": {},
   "source": [
    "We found that there are 1181 duplicates which mean we only have 9660 unique rows left"
   ]
  },
  {
   "cell_type": "code",
   "execution_count": 43,
   "metadata": {},
   "outputs": [
    {
     "name": "stdout",
     "output_type": "stream",
     "text": [
      "Unique rows:  9660\n"
     ]
    }
   ],
   "source": [
    "print(\"Unique rows: \",len(android) - 1181)"
   ]
  },
  {
   "cell_type": "markdown",
   "metadata": {},
   "source": [
    "To remove duplicates, we will:\n",
    "- Create a dictionary where each key is a unique app name, and the value is the highest number of reviews of that app\n",
    "- Use the dictionary to create a new data set, which will have only one entry per app (and we only select the apps with the highest number of reviews)"
   ]
  },
  {
   "cell_type": "markdown",
   "metadata": {},
   "source": [
    "Now start building our dictionary:"
   ]
  },
  {
   "cell_type": "markdown",
   "metadata": {},
   "source": [
    "```\n",
    "reviews_max = {}\n",
    "\n",
    "for app in android:\n",
    "    name = app[0]\n",
    "    n_reviews = float(app[3])\n",
    "    \n",
    "    if name in reviews_max and reviews_max[name] < n_reviews:\n",
    "        reviews_max[name] = n_reviews\n",
    "        \n",
    "    elif name not in reviews_max:\n",
    "        reviews_max[name] = n_reviews\n",
    "```"
   ]
  },
  {
   "cell_type": "markdown",
   "metadata": {},
   "source": [
    "# Remove non-English app"
   ]
  },
  {
   "cell_type": "markdown",
   "metadata": {},
   "source": [
    "In previous step, we know how to remove wrong and duplicated app. This step will show you how to remove non English app."
   ]
  },
  {
   "cell_type": "code",
   "execution_count": 44,
   "metadata": {},
   "outputs": [
    {
     "name": "stdout",
     "output_type": "stream",
     "text": [
      "爱奇艺PPS -《欢乐颂2》电视剧热播\n",
      "【脱出ゲーム】絶対に最後までプレイしないで 〜謎解き＆ブロックパズル〜\n"
     ]
    }
   ],
   "source": [
    "print(ios[814][1])\n",
    "print(ios[6732][1])"
   ]
  },
  {
   "cell_type": "markdown",
   "metadata": {},
   "source": [
    "So what we're going to do ?\n",
    "\n",
    "We are going to remove each app with a name containing a symbol what isn't commonly used in English text.\n",
    "\n",
    "Each character corresponding to number. Like `'a'` is 97, character `'A'` is 65, and character `'爱'` is 29233. (use `ord()` to know what number is that character)\n",
    "\n",
    "The number of English text are all in range 0 to 127, according to the ASCII system. So we need to bulid the function to check if the name is English or not:"
   ]
  },
  {
   "cell_type": "code",
   "execution_count": 45,
   "metadata": {},
   "outputs": [
    {
     "name": "stdout",
     "output_type": "stream",
     "text": [
      "True\n",
      "False\n"
     ]
    }
   ],
   "source": [
    "def IsEnglish(name):\n",
    "    for character in name:\n",
    "        if ord(character) > 127:\n",
    "            return False\n",
    "    return True\n",
    "print(IsEnglish(\"Facebook\"))\n",
    "print(IsEnglish(\"爱奇艺PPS -《欢乐颂2》电视剧热播\"))"
   ]
  },
  {
   "cell_type": "markdown",
   "metadata": {},
   "source": [
    "The function seem work fine. But hold on! Let's try these cases: Emotion icon :))"
   ]
  },
  {
   "cell_type": "code",
   "execution_count": 46,
   "metadata": {},
   "outputs": [
    {
     "name": "stdout",
     "output_type": "stream",
     "text": [
      "False\n",
      "False\n"
     ]
    }
   ],
   "source": [
    "print(IsEnglish('Instachat 😜'))\n",
    "print(IsEnglish('Docs To Go™ Free Office Suite'))"
   ]
  },
  {
   "cell_type": "markdown",
   "metadata": {},
   "source": [
    "If we keep that function form, we may remove such usefull app using those emojis :V So move on to next part to see how will we optimize our function."
   ]
  },
  {
   "cell_type": "markdown",
   "metadata": {},
   "source": [
    "## Part 2\n",
    "To minimize losing usefull data, we need to change something in our function."
   ]
  },
  {
   "cell_type": "code",
   "execution_count": 47,
   "metadata": {},
   "outputs": [
    {
     "name": "stdout",
     "output_type": "stream",
     "text": [
      "True\n",
      "True\n",
      "False\n"
     ]
    }
   ],
   "source": [
    "def IsEnglish(name):\n",
    "    non_ascii = 0\n",
    "    for character in name:\n",
    "        if ord(character) > 127:\n",
    "            non_ascii += 1\n",
    "    if non_ascii > 3: #if this text have more than 3 non ascii char- > not english \n",
    "        return False\n",
    "    else:\n",
    "        return True\n",
    "print(IsEnglish('Instachat 😜'))\n",
    "print(IsEnglish('Docs To Go™ Free Office Suite'))\n",
    "print(IsEnglish(\"爱奇艺PPS -《欢乐颂2》电视剧热播\"))"
   ]
  },
  {
   "cell_type": "markdown",
   "metadata": {},
   "source": [
    "Here we use `IsEnglsih()` to explore both dataset that we have:"
   ]
  },
  {
   "cell_type": "code",
   "execution_count": 48,
   "metadata": {},
   "outputs": [
    {
     "name": "stdout",
     "output_type": "stream",
     "text": [
      "['389801252', 'Instagram', '113954816', 'USD', '0.0', '2161558', '1289', '4.5', '4.0', '10.23', '12+', 'Photo & Video', '37', '0', '29', '1']\n",
      "\n",
      "\n",
      "['529479190', 'Clash of Clans', '116476928', 'USD', '0.0', '2130805', '579', '4.5', '4.5', '9.24.12', '9+', 'Games', '38', '5', '18', '1']\n",
      "\n",
      "\n",
      "['420009108', 'Temple Run', '65921024', 'USD', '0.0', '1724546', '3842', '4.5', '4.0', '1.6.2', '9+', 'Games', '40', '5', '1', '1']\n",
      "\n",
      "\n"
     ]
    }
   ],
   "source": [
    "android_eng = []\n",
    "ios_eng = []\n",
    "#English android apps\n",
    "for app in android[1:]:\n",
    "    if IsEnglish(app[1]):\n",
    "        android_eng.append(app)\n",
    "        \n",
    "#English ios apps\n",
    "for app in ios[1:]:\n",
    "    if IsEnglish(app[1]):\n",
    "        ios_eng.append(app)\n",
    "explore_data(ios_eng,1,4)"
   ]
  },
  {
   "cell_type": "markdown",
   "metadata": {},
   "source": [
    "# Isolating the Free Apps\n",
    "We only build apps that are free to dowload and install. Our datasets contain both free and non-free apps. We need to isolate only free apps (cause I like apps which are free :)) )"
   ]
  },
  {
   "cell_type": "code",
   "execution_count": 49,
   "metadata": {},
   "outputs": [
    {
     "name": "stdout",
     "output_type": "stream",
     "text": [
      "3222\n"
     ]
    }
   ],
   "source": [
    "android_final = []\n",
    "ios_final = []\n",
    "\n",
    "for app in android_eng:\n",
    "    price = app[7]\n",
    "    if price == '0':\n",
    "        android_final.append(app)\n",
    "        \n",
    "for app in ios_eng:\n",
    "    price = app[4]\n",
    "    if price == '0.0':\n",
    "        ios_final.append(app)\n",
    "        \n",
    "print(len(ios_final))\n"
   ]
  },
  {
   "cell_type": "markdown",
   "metadata": {},
   "source": [
    "There are `3222` free IOS apps omg! (i'm using android though :v)\n",
    "\n",
    "This step is also the last step of `cleaning data`! Congratulation!"
   ]
  },
  {
   "cell_type": "markdown",
   "metadata": {},
   "source": [
    "---\n",
    "# Most common Apps by Genre\n",
    "## Part 1\n",
    "Our aim is to determine the kinds of apps that are likely to attract more user cause our revenue is highly influenced bu the number of people using our apps.\n",
    "\n",
    "To minimize risks and overhead, our validation strategy for an app idea is comprised of three steps:\n",
    "\n",
    "- Build a minimal Android version of the app, and add it to Google Play.\n",
    "- If the app has a good response from users, we develop it further.\n",
    "- If the app is profitable after six months, we build an iOS version of the app and add it to the App Store.\n",
    "\n",
    "Because our end goal is to add the app on both the App Store and Google Play, we need to find app profiles that are successful on both markets. For instance, a profile that might work well for both markets might be a productivity app that makes use of gamification.\n",
    "\n",
    "Let's begin the analysis by getting a sense of the most common genres for each market. For this, we'll build a frequency table for the `prime_genre` column of the App Store data set, and the `Genres` and `Category` columns of the Google Play data set."
   ]
  },
  {
   "cell_type": "markdown",
   "metadata": {},
   "source": [
    "## Part 2\n",
    "We'll build two functions we can use to analyze the frequency tables:\n",
    "- One function to generate frequency tables that show percentages\n",
    "- Another function that we can use to display the percentages in a descending order"
   ]
  },
  {
   "cell_type": "code",
   "execution_count": 50,
   "metadata": {},
   "outputs": [],
   "source": [
    "def freq_table(dataset, index):\n",
    "    table = {}\n",
    "    total = 0\n",
    "    \n",
    "    for row in dataset:\n",
    "        total += 1\n",
    "        value = row[index]\n",
    "        if value in table:\n",
    "            table[value] += 1\n",
    "        else:\n",
    "            table[value] = 1\n",
    "    \n",
    "    table_percentages = {}\n",
    "    for key in table:\n",
    "        percentage = (table[key] / total) * 100\n",
    "        table_percentages[key] = percentage \n",
    "    \n",
    "    return table_percentages\n",
    "\n",
    "\n",
    "def display_table(dataset, index):\n",
    "    table = freq_table(dataset, index)\n",
    "    table_display = []\n",
    "    for key in table:\n",
    "        key_val_as_tuple = (table[key], key)\n",
    "        table_display.append(key_val_as_tuple)\n",
    "        \n",
    "    table_sorted = sorted(table_display, reverse = True)\n",
    "    for entry in table_sorted:\n",
    "        print(entry[1], ':', entry[0])"
   ]
  },
  {
   "cell_type": "markdown",
   "metadata": {},
   "source": [
    "## Part 3\n",
    "We start by examining the frequency table for the prime_genre column of the App Store data set."
   ]
  },
  {
   "cell_type": "code",
   "execution_count": 51,
   "metadata": {},
   "outputs": [
    {
     "name": "stdout",
     "output_type": "stream",
     "text": [
      "Games : 58.16263190564867\n",
      "Entertainment : 7.883302296710118\n",
      "Photo & Video : 4.9658597144630665\n",
      "Education : 3.662321539416512\n",
      "Social Networking : 3.2898820608317814\n",
      "Shopping : 2.60707635009311\n",
      "Utilities : 2.5139664804469275\n",
      "Sports : 2.1415270018621975\n",
      "Music : 2.0484171322160147\n",
      "Health & Fitness : 2.0173805090006205\n",
      "Productivity : 1.7380509000620732\n",
      "Lifestyle : 1.5828677839851024\n",
      "News : 1.3345747982619491\n",
      "Travel : 1.2414649286157666\n",
      "Finance : 1.1173184357541899\n",
      "Weather : 0.8690254500310366\n",
      "Food & Drink : 0.8069522036002483\n",
      "Reference : 0.5586592178770949\n",
      "Business : 0.5276225946617008\n",
      "Book : 0.4345127250155183\n",
      "Navigation : 0.186219739292365\n",
      "Medical : 0.186219739292365\n",
      "Catalogs : 0.12414649286157665\n"
     ]
    }
   ],
   "source": [
    "display_table(ios_final,-5)"
   ]
  },
  {
   "cell_type": "markdown",
   "metadata": {},
   "source": [
    "We can see that among the free English apps, more than a half (58.16%) are games. Entertainment apps are close to 8%, followed by photo and video apps, which are close to 5%. Only 3.66% of the apps are designed for education, followed by social networking apps which amount for 3.29% of the apps in our data set.\n",
    "\n",
    "The general impression is that App Store (at least the part containing free English apps) is dominated by apps that are designed for fun (games, entertainment, photo and video, social networking, sports, music, etc.), while apps with practical purposes (education, shopping, utilities, productivity, lifestyle, etc.) are more rare. However, the fact that fun apps are the most numerous doesn't also imply that they also have the greatest number of users — the demand might not be the same as the offer."
   ]
  },
  {
   "cell_type": "markdown",
   "metadata": {},
   "source": [
    "Let's continue exam `Categoty` and `Genres` comlumns of android dataset"
   ]
  },
  {
   "cell_type": "code",
   "execution_count": 52,
   "metadata": {},
   "outputs": [
    {
     "name": "stdout",
     "output_type": "stream",
     "text": [
      "FAMILY : 17.739043824701195\n",
      "GAME : 10.56772908366534\n",
      "TOOLS : 7.6195219123505975\n",
      "BUSINESS : 4.442231075697211\n",
      "PRODUCTIVITY : 3.944223107569721\n",
      "LIFESTYLE : 3.6155378486055776\n",
      "SPORTS : 3.5856573705179287\n",
      "COMMUNICATION : 3.5856573705179287\n",
      "MEDICAL : 3.5258964143426295\n",
      "FINANCE : 3.4760956175298805\n",
      "HEALTH_AND_FITNESS : 3.237051792828685\n",
      "PHOTOGRAPHY : 3.117529880478088\n",
      "PERSONALIZATION : 3.0776892430278884\n",
      "SOCIAL : 2.908366533864542\n",
      "NEWS_AND_MAGAZINES : 2.7988047808764938\n",
      "SHOPPING : 2.5697211155378485\n",
      "TRAVEL_AND_LOCAL : 2.450199203187251\n",
      "DATING : 2.2609561752988045\n",
      "BOOKS_AND_REFERENCE : 2.0219123505976095\n",
      "VIDEO_PLAYERS : 1.7031872509960162\n",
      "EDUCATION : 1.5139442231075697\n",
      "ENTERTAINMENT : 1.4641434262948207\n",
      "MAPS_AND_NAVIGATION : 1.3147410358565739\n",
      "FOOD_AND_DRINK : 1.245019920318725\n",
      "HOUSE_AND_HOME : 0.8764940239043826\n",
      "LIBRARIES_AND_DEMO : 0.8366533864541833\n",
      "AUTO_AND_VEHICLES : 0.8167330677290837\n",
      "WEATHER : 0.7370517928286853\n",
      "EVENTS : 0.6274900398406374\n",
      "ART_AND_DESIGN : 0.6175298804780877\n",
      "COMICS : 0.5976095617529881\n",
      "PARENTING : 0.5776892430278884\n",
      "BEAUTY : 0.5278884462151394\n"
     ]
    }
   ],
   "source": [
    "display_table(android_final,1) #Category"
   ]
  },
  {
   "cell_type": "markdown",
   "metadata": {},
   "source": [
    "The landscape seems significantly different on Google Play: there are not that many apps designed for fun, and it seems that a good number of apps are designed for practical purposes (family, tools, business, lifestyle, productivity, etc.). However, if we investigate this further, we can see that the family category (which accounts for almost 17% of the apps) means mostly games for kids."
   ]
  },
  {
   "cell_type": "code",
   "execution_count": 53,
   "metadata": {},
   "outputs": [
    {
     "name": "stdout",
     "output_type": "stream",
     "text": [
      "Tools : 7.609561752988048\n",
      "Entertainment : 6.01593625498008\n",
      "Education : 5.169322709163347\n",
      "Business : 4.442231075697211\n",
      "Productivity : 3.944223107569721\n",
      "Sports : 3.7250996015936253\n",
      "Lifestyle : 3.6055776892430282\n",
      "Communication : 3.5856573705179287\n",
      "Medical : 3.5258964143426295\n",
      "Finance : 3.4760956175298805\n",
      "Action : 3.396414342629482\n",
      "Health & Fitness : 3.237051792828685\n",
      "Photography : 3.117529880478088\n",
      "Personalization : 3.0776892430278884\n",
      "Social : 2.908366533864542\n",
      "News & Magazines : 2.7988047808764938\n",
      "Shopping : 2.5697211155378485\n",
      "Travel & Local : 2.4402390438247012\n",
      "Dating : 2.2609561752988045\n",
      "Books & Reference : 2.0219123505976095\n",
      "Arcade : 1.9920318725099602\n",
      "Simulation : 1.902390438247012\n",
      "Casual : 1.8326693227091633\n",
      "Video Players & Editors : 1.6832669322709164\n",
      "Maps & Navigation : 1.3147410358565739\n",
      "Food & Drink : 1.245019920318725\n",
      "Puzzle : 1.205179282868526\n",
      "Racing : 0.9462151394422311\n",
      "Strategy : 0.9362549800796812\n",
      "House & Home : 0.8764940239043826\n",
      "Role Playing : 0.8665338645418327\n",
      "Libraries & Demo : 0.8366533864541833\n",
      "Auto & Vehicles : 0.8167330677290837\n",
      "Weather : 0.7370517928286853\n",
      "Events : 0.6274900398406374\n",
      "Adventure : 0.6274900398406374\n",
      "Comics : 0.5876494023904383\n",
      "Art & Design : 0.5478087649402391\n",
      "Beauty : 0.5278884462151394\n",
      "Parenting : 0.4382470119521913\n",
      "Education;Education : 0.4382470119521913\n",
      "Card : 0.40836653386454186\n",
      "Trivia : 0.3784860557768924\n",
      "Educational;Education : 0.3784860557768924\n",
      "Casino : 0.3784860557768924\n",
      "Board : 0.348605577689243\n",
      "Educational : 0.32868525896414347\n",
      "Word : 0.2888446215139442\n",
      "Entertainment;Music & Video : 0.26892430278884466\n",
      "Casual;Pretend Play : 0.24900398406374502\n",
      "Music : 0.20916334661354583\n",
      "Casual;Action & Adventure : 0.199203187250996\n",
      "Racing;Action & Adventure : 0.1892430278884462\n",
      "Puzzle;Brain Games : 0.1693227091633466\n",
      "Educational;Pretend Play : 0.13944223107569723\n",
      "Action;Action & Adventure : 0.13944223107569723\n",
      "Casual;Brain Games : 0.1294820717131474\n",
      "Arcade;Action & Adventure : 0.1195219123505976\n",
      "Simulation;Action & Adventure : 0.10956175298804782\n",
      "Adventure;Action & Adventure : 0.10956175298804782\n",
      "Entertainment;Brain Games : 0.0796812749003984\n",
      "Education;Pretend Play : 0.0796812749003984\n",
      "Board;Brain Games : 0.0796812749003984\n",
      "Parenting;Education : 0.06972111553784861\n",
      "Casual;Creativity : 0.06972111553784861\n",
      "Art & Design;Creativity : 0.06972111553784861\n",
      "Role Playing;Action & Adventure : 0.0597609561752988\n",
      "Parenting;Music & Video : 0.0597609561752988\n",
      "Educational;Brain Games : 0.0597609561752988\n",
      "Role Playing;Pretend Play : 0.049800796812749\n",
      "Puzzle;Action & Adventure : 0.049800796812749\n",
      "Education;Music & Video : 0.049800796812749\n",
      "Education;Creativity : 0.049800796812749\n",
      "Educational;Action & Adventure : 0.0398406374501992\n",
      "Education;Brain Games : 0.0398406374501992\n",
      "Education;Action & Adventure : 0.0398406374501992\n",
      "Video Players & Editors;Music & Video : 0.0298804780876494\n",
      "Simulation;Pretend Play : 0.0298804780876494\n",
      "Entertainment;Creativity : 0.0298804780876494\n",
      "Entertainment;Action & Adventure : 0.0298804780876494\n",
      "Educational;Creativity : 0.0298804780876494\n",
      "Video Players & Editors;Creativity : 0.0199203187250996\n",
      "Sports;Action & Adventure : 0.0199203187250996\n",
      "Puzzle;Creativity : 0.0199203187250996\n",
      "Music;Music & Video : 0.0199203187250996\n",
      "Entertainment;Pretend Play : 0.0199203187250996\n",
      "Casual;Music & Video : 0.0199203187250996\n",
      "Casual;Education : 0.0199203187250996\n",
      "Board;Action & Adventure : 0.0199203187250996\n",
      "Art & Design;Pretend Play : 0.0199203187250996\n",
      "Art & Design;Action & Adventure : 0.0199203187250996\n",
      "Adventure;Education : 0.0199203187250996\n",
      "Trivia;Education : 0.0099601593625498\n",
      "Travel & Local;Action & Adventure : 0.0099601593625498\n",
      "Tools;Education : 0.0099601593625498\n",
      "Strategy;Education : 0.0099601593625498\n",
      "Strategy;Creativity : 0.0099601593625498\n",
      "Strategy;Action & Adventure : 0.0099601593625498\n",
      "Simulation;Education : 0.0099601593625498\n",
      "Role Playing;Brain Games : 0.0099601593625498\n",
      "Racing;Pretend Play : 0.0099601593625498\n",
      "Puzzle;Education : 0.0099601593625498\n",
      "Parenting;Brain Games : 0.0099601593625498\n",
      "Music & Audio;Music & Video : 0.0099601593625498\n",
      "Lifestyle;Pretend Play : 0.0099601593625498\n",
      "Lifestyle;Education : 0.0099601593625498\n",
      "Health & Fitness;Education : 0.0099601593625498\n",
      "Health & Fitness;Action & Adventure : 0.0099601593625498\n",
      "Entertainment;Education : 0.0099601593625498\n",
      "Communication;Creativity : 0.0099601593625498\n",
      "Comics;Creativity : 0.0099601593625498\n",
      "Card;Brain Games : 0.0099601593625498\n",
      "Card;Action & Adventure : 0.0099601593625498\n",
      "Books & Reference;Education : 0.0099601593625498\n",
      "Arcade;Pretend Play : 0.0099601593625498\n"
     ]
    }
   ],
   "source": [
    "display_table(android_final,-4) #Genres"
   ]
  },
  {
   "cell_type": "markdown",
   "metadata": {},
   "source": [
    "The difference between the Genres and the Category columns is not crystal clear, but one thing we can notice is that the Genres column is much more granular (it has more categories). We're only looking for the bigger picture at the moment, so we'll only work with the Category column moving forward.\n",
    "\n",
    "Up to this point, we found that the App Store is dominated by apps designed for fun, while Google Play shows a more balanced landscape of both practical and for-fun apps. Now we'd like to get an idea about the kind of apps that have most users."
   ]
  },
  {
   "cell_type": "markdown",
   "metadata": {},
   "source": [
    "---\n",
    "# Most Popular Apps by Genre on the App Store\n",
    "One way to find out what genres are the most popular (have the most users) is to calculate the average number of installs for each app genre. For the Google Play data set, we can find this information in the `Installs` column, but for the App Store data set this information is missing. As a workaround, we'll take the total number of user ratings as a proxy, which we can find in the rating_count_tot app.\n",
    "\n",
    "Below, we calculate the average number of user ratings per app genre on the App Store:"
   ]
  },
  {
   "cell_type": "code",
   "execution_count": 54,
   "metadata": {},
   "outputs": [
    {
     "name": "stdout",
     "output_type": "stream",
     "text": [
      "Social Networking : 71548.34905660378\n",
      "Photo & Video : 28441.54375\n",
      "Games : 22788.6696905016\n",
      "Music : 57326.530303030304\n",
      "Reference : 74942.11111111111\n",
      "Health & Fitness : 23298.015384615384\n",
      "Weather : 52279.892857142855\n",
      "Utilities : 18684.456790123455\n",
      "Travel : 28243.8\n",
      "Shopping : 26919.690476190477\n",
      "News : 21248.023255813954\n",
      "Navigation : 86090.33333333333\n",
      "Lifestyle : 16485.764705882353\n",
      "Entertainment : 14029.830708661417\n",
      "Food & Drink : 33333.92307692308\n",
      "Sports : 23008.898550724636\n",
      "Book : 39758.5\n",
      "Finance : 31467.944444444445\n",
      "Education : 7003.983050847458\n",
      "Productivity : 21028.410714285714\n",
      "Business : 7491.117647058823\n",
      "Catalogs : 4004.0\n",
      "Medical : 612.0\n"
     ]
    }
   ],
   "source": [
    "genres_ios = freq_table(ios_final, -5)\n",
    "\n",
    "for genre in genres_ios:\n",
    "    total = 0\n",
    "    len_genre = 0\n",
    "    for app in ios_final:\n",
    "        genre_app = app[-5]\n",
    "        if genre_app == genre:            \n",
    "            n_ratings = float(app[5])\n",
    "            total += n_ratings\n",
    "            len_genre += 1\n",
    "    avg_n_ratings = total / len_genre\n",
    "    print(genre, ':', avg_n_ratings)"
   ]
  },
  {
   "cell_type": "markdown",
   "metadata": {},
   "source": [
    "On average, navigation apps have the highest number of user reviews, but this figure is heavily influenced by Waze and Google Maps, which have close to half a million user reviews together:"
   ]
  },
  {
   "cell_type": "code",
   "execution_count": 55,
   "metadata": {},
   "outputs": [
    {
     "name": "stdout",
     "output_type": "stream",
     "text": [
      "Waze - GPS Navigation, Maps & Real-time Traffic : 345046\n",
      "Google Maps - Navigation & Transit : 154911\n",
      "Geocaching® : 12811\n",
      "CoPilot GPS – Car Navigation & Offline Maps : 3582\n",
      "ImmobilienScout24: Real Estate Search in Germany : 187\n",
      "Railway Route Search : 5\n"
     ]
    }
   ],
   "source": [
    "for app in ios_final:\n",
    "    if app[-5] == 'Navigation':\n",
    "        print(app[1], ':', app[5]) # print name and number of ratings"
   ]
  },
  {
   "cell_type": "markdown",
   "metadata": {},
   "source": [
    "The same pattern applies to social networking apps, where the average number is heavily influenced by a few giants like Facebook, Pinterest, Skype, etc. Same applies to music apps, where a few big players like Pandora, Spotify, and Shazam heavily influence the average number.\n",
    "\n",
    "Our aim is to find popular genres, but navigation, social networking or music apps might seem more popular than they really are. The average number of ratings seem to be skewed by very few apps which have hundreds of thousands of user ratings, while the other apps may struggle to get past the 10,000 threshold. We could get a better picture by removing these extremely popular apps for each genre and then rework the averages, but we'll leave this level of detail for later.\n",
    "\n",
    "Reference apps have 74,942 user ratings on average, but it's actually the Bible and Dictionary.com which skew up the average rating:"
   ]
  },
  {
   "cell_type": "code",
   "execution_count": 56,
   "metadata": {},
   "outputs": [
    {
     "name": "stdout",
     "output_type": "stream",
     "text": [
      "Bible : 985920\n",
      "Dictionary.com Dictionary & Thesaurus : 200047\n",
      "Dictionary.com Dictionary & Thesaurus for iPad : 54175\n",
      "Google Translate : 26786\n",
      "Muslim Pro: Ramadan 2017 Prayer Times, Azan, Quran : 18418\n",
      "New Furniture Mods - Pocket Wiki & Game Tools for Minecraft PC Edition : 17588\n",
      "Merriam-Webster Dictionary : 16849\n",
      "Night Sky : 12122\n",
      "City Maps for Minecraft PE - The Best Maps for Minecraft Pocket Edition (MCPE) : 8535\n",
      "LUCKY BLOCK MOD ™ for Minecraft PC Edition - The Best Pocket Wiki & Mods Installer Tools : 4693\n",
      "GUNS MODS for Minecraft PC Edition - Mods Tools : 1497\n",
      "Guides for Pokémon GO - Pokemon GO News and Cheats : 826\n",
      "WWDC : 762\n",
      "Horror Maps for Minecraft PE - Download The Scariest Maps for Minecraft Pocket Edition (MCPE) Free : 718\n",
      "VPN Express : 14\n",
      "Real Bike Traffic Rider Virtual Reality Glasses : 8\n",
      "教えて!goo : 0\n",
      "Jishokun-Japanese English Dictionary & Translator : 0\n"
     ]
    }
   ],
   "source": [
    "for app in ios_final:\n",
    "    if app[-5] == 'Reference':\n",
    "        print(app[1], ':', app[5])"
   ]
  },
  {
   "cell_type": "markdown",
   "metadata": {},
   "source": [
    "However, this niche seems to show some potential. One thing we could do is take another popular book and turn it into an app where we could add different features besides the raw version of the book. This might include daily quotes from the book, an audio version of the book, quizzes about the book, etc. On top of that, we could also embed a dictionary within the app, so users don't need to exit our app to look up words in an external app.\n",
    "\n",
    "This idea seems to fit well with the fact that the App Store is dominated by for-fun apps. This suggests the market might be a bit saturated with for-fun apps, which means a practical app might have more of a chance to stand out among the huge number of apps on the App Store.\n",
    "\n",
    "Other genres that seem popular include weather, book, food and drink, or finance. The book genre seem to overlap a bit with the app idea we described above, but the other genres don't seem too interesting to us:\n",
    "\n",
    "- Weather apps — people generally don't spend too much time in-app, and the chances of making profit from in-app adds are low. Also, getting reliable live weather data may require us to connect our apps to non-free APIs.\n",
    "\n",
    "- Food and drink — examples here include Starbucks, Dunkin' Donuts, McDonald's, etc. So making a popular food and drink app requires actual cooking and a delivery service, which is outside the scope of our company.\n",
    "\n",
    "- Finance apps — these apps involve banking, paying bills, money transfer, etc. Building a finance app requires domain knowledge, and we don't want to hire a finance expert just to build an app.\n",
    "\n",
    "I also want to analyze GooglePlay Store as well.... but i'm hungry so we may end here"
   ]
  },
  {
   "cell_type": "markdown",
   "metadata": {},
   "source": [
    "---\n",
    "# conclusion\n",
    "Actually, there's no conclusion here cause i'm so freaking lazy :v If it's fun, read again :D "
   ]
  }
 ],
 "metadata": {
  "kernelspec": {
   "display_name": "Python 3",
   "language": "python",
   "name": "python3"
  },
  "language_info": {
   "codemirror_mode": {
    "name": "ipython",
    "version": 3
   },
   "file_extension": ".py",
   "mimetype": "text/x-python",
   "name": "python",
   "nbconvert_exporter": "python",
   "pygments_lexer": "ipython3",
   "version": "3.8.2"
  }
 },
 "nbformat": 4,
 "nbformat_minor": 2
}
